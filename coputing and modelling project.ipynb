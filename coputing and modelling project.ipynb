{
 "cells": [
  {
   "cell_type": "code",
   "execution_count": 18,
   "metadata": {
    "colab": {
     "base_uri": "https://localhost:8080/",
     "height": 174
    },
    "id": "M6gsRIh2buMt",
    "outputId": "1baeb82e-3465-42a0-f7a4-d16e77f1c18f"
   },
   "outputs": [
    {
     "data": {
      "text/html": [
       "<style  type=\"text/css\" >\n",
       "#T_c3cbb_row0_col0,#T_c3cbb_row0_col1,#T_c3cbb_row0_col2,#T_c3cbb_row0_col3,#T_c3cbb_row0_col4,#T_c3cbb_row0_col5,#T_c3cbb_row0_col6,#T_c3cbb_row0_col7,#T_c3cbb_row0_col8,#T_c3cbb_row1_col0,#T_c3cbb_row1_col1,#T_c3cbb_row1_col2,#T_c3cbb_row1_col3,#T_c3cbb_row1_col4,#T_c3cbb_row1_col5,#T_c3cbb_row1_col6,#T_c3cbb_row1_col7,#T_c3cbb_row1_col8,#T_c3cbb_row2_col0,#T_c3cbb_row2_col1,#T_c3cbb_row2_col2,#T_c3cbb_row2_col3,#T_c3cbb_row2_col4,#T_c3cbb_row2_col5,#T_c3cbb_row2_col6,#T_c3cbb_row2_col7,#T_c3cbb_row2_col8,#T_c3cbb_row3_col0,#T_c3cbb_row3_col1,#T_c3cbb_row3_col2,#T_c3cbb_row3_col3,#T_c3cbb_row3_col4,#T_c3cbb_row3_col5,#T_c3cbb_row3_col6,#T_c3cbb_row3_col7,#T_c3cbb_row3_col8{\n",
       "            background-color:  gray;\n",
       "            color:  yellow;\n",
       "        }</style><table id=\"T_c3cbb_\" ><thead>    <tr>        <th class=\"blank level0\" ></th>        <th class=\"col_heading level0 col0\" >h(cm)</th>        <th class=\"col_heading level0 col1\" >h</th>        <th class=\"col_heading level0 col2\" >T1</th>        <th class=\"col_heading level0 col3\" >T2</th>        <th class=\"col_heading level0 col4\" >T3</th>        <th class=\"col_heading level0 col5\" >Potintial_energy</th>        <th class=\"col_heading level0 col6\" >T_avr</th>        <th class=\"col_heading level0 col7\" >v</th>        <th class=\"col_heading level0 col8\" >kinetic_energy</th>    </tr></thead><tbody>\n",
       "                <tr>\n",
       "                        <th id=\"T_c3cbb_level0_row0\" class=\"row_heading level0 row0\" >0</th>\n",
       "                        <td id=\"T_c3cbb_row0_col0\" class=\"data row0 col0\" >14.000000</td>\n",
       "                        <td id=\"T_c3cbb_row0_col1\" class=\"data row0 col1\" >0.140000</td>\n",
       "                        <td id=\"T_c3cbb_row0_col2\" class=\"data row0 col2\" >2.000000</td>\n",
       "                        <td id=\"T_c3cbb_row0_col3\" class=\"data row0 col3\" >2.150000</td>\n",
       "                        <td id=\"T_c3cbb_row0_col4\" class=\"data row0 col4\" >1.790000</td>\n",
       "                        <td id=\"T_c3cbb_row0_col5\" class=\"data row0 col5\" >0.439040</td>\n",
       "                        <td id=\"T_c3cbb_row0_col6\" class=\"data row0 col6\" >1.980000</td>\n",
       "                        <td id=\"T_c3cbb_row0_col7\" class=\"data row0 col7\" >0.484848</td>\n",
       "                        <td id=\"T_c3cbb_row0_col8\" class=\"data row0 col8\" >0.037612</td>\n",
       "            </tr>\n",
       "            <tr>\n",
       "                        <th id=\"T_c3cbb_level0_row1\" class=\"row_heading level0 row1\" >1</th>\n",
       "                        <td id=\"T_c3cbb_row1_col0\" class=\"data row1 col0\" >17.500000</td>\n",
       "                        <td id=\"T_c3cbb_row1_col1\" class=\"data row1 col1\" >0.175000</td>\n",
       "                        <td id=\"T_c3cbb_row1_col2\" class=\"data row1 col2\" >2.070000</td>\n",
       "                        <td id=\"T_c3cbb_row1_col3\" class=\"data row1 col3\" >1.880000</td>\n",
       "                        <td id=\"T_c3cbb_row1_col4\" class=\"data row1 col4\" >1.850000</td>\n",
       "                        <td id=\"T_c3cbb_row1_col5\" class=\"data row1 col5\" >0.548800</td>\n",
       "                        <td id=\"T_c3cbb_row1_col6\" class=\"data row1 col6\" >1.933333</td>\n",
       "                        <td id=\"T_c3cbb_row1_col7\" class=\"data row1 col7\" >0.496552</td>\n",
       "                        <td id=\"T_c3cbb_row1_col8\" class=\"data row1 col8\" >0.039450</td>\n",
       "            </tr>\n",
       "            <tr>\n",
       "                        <th id=\"T_c3cbb_level0_row2\" class=\"row_heading level0 row2\" >2</th>\n",
       "                        <td id=\"T_c3cbb_row2_col0\" class=\"data row2 col0\" >20.500000</td>\n",
       "                        <td id=\"T_c3cbb_row2_col1\" class=\"data row2 col1\" >0.205000</td>\n",
       "                        <td id=\"T_c3cbb_row2_col2\" class=\"data row2 col2\" >1.590000</td>\n",
       "                        <td id=\"T_c3cbb_row2_col3\" class=\"data row2 col3\" >1.530000</td>\n",
       "                        <td id=\"T_c3cbb_row2_col4\" class=\"data row2 col4\" >1.590000</td>\n",
       "                        <td id=\"T_c3cbb_row2_col5\" class=\"data row2 col5\" >0.642880</td>\n",
       "                        <td id=\"T_c3cbb_row2_col6\" class=\"data row2 col6\" >1.570000</td>\n",
       "                        <td id=\"T_c3cbb_row2_col7\" class=\"data row2 col7\" >0.611465</td>\n",
       "                        <td id=\"T_c3cbb_row2_col8\" class=\"data row2 col8\" >0.059822</td>\n",
       "            </tr>\n",
       "            <tr>\n",
       "                        <th id=\"T_c3cbb_level0_row3\" class=\"row_heading level0 row3\" >3</th>\n",
       "                        <td id=\"T_c3cbb_row3_col0\" class=\"data row3 col0\" >24.000000</td>\n",
       "                        <td id=\"T_c3cbb_row3_col1\" class=\"data row3 col1\" >0.240000</td>\n",
       "                        <td id=\"T_c3cbb_row3_col2\" class=\"data row3 col2\" >1.380000</td>\n",
       "                        <td id=\"T_c3cbb_row3_col3\" class=\"data row3 col3\" >1.500000</td>\n",
       "                        <td id=\"T_c3cbb_row3_col4\" class=\"data row3 col4\" >1.430000</td>\n",
       "                        <td id=\"T_c3cbb_row3_col5\" class=\"data row3 col5\" >0.752640</td>\n",
       "                        <td id=\"T_c3cbb_row3_col6\" class=\"data row3 col6\" >1.436667</td>\n",
       "                        <td id=\"T_c3cbb_row3_col7\" class=\"data row3 col7\" >0.668213</td>\n",
       "                        <td id=\"T_c3cbb_row3_col8\" class=\"data row3 col8\" >0.071441</td>\n",
       "            </tr>\n",
       "    </tbody></table>"
      ],
      "text/plain": [
       "<pandas.io.formats.style.Styler at 0x26e5ef2bb80>"
      ]
     },
     "execution_count": 18,
     "metadata": {},
     "output_type": "execute_result"
    }
   ],
   "source": [
    "import pandas as pd\n",
    "g=9.8\n",
    "L=0.96\n",
    "m=0.32\n",
    "data={\"h(cm)\":[14,17.5,20.5,24],\"h\":[0.14,0.175,0.205,0.24]\n",
    "      ,\"T1\":[2,2.07,1.59,1.38],\"T2\":[2.15,1.88,1.53,1.5]\n",
    "      ,\"T3\":[1.79,1.85,1.59,1.43]}\n",
    "df=pd.DataFrame(data)\n",
    "PE= lambda m , g , h : m * g * h\n",
    "df['Potintial_energy']=PE(m ,g ,df.h ) \n",
    "T= lambda T1,T2,T3 :(T1+T2+T3)/3\n",
    "df['T_avr']=T(df.T1,df.T2,df.T3)\n",
    "V= lambda L , T_avr:L/T_avr\n",
    "df['v']=V(L,df.T_avr)\n",
    "KE= lambda m , v : 0.5*m*v**2\n",
    "df['kinetic_energy']=KE(m,df.v)\n",
    "df.style.set_properties(**{'background-color':'gray','color':'yellow'})"
   ]
  },
  {
   "cell_type": "code",
   "execution_count": 19,
   "metadata": {
    "colab": {
     "base_uri": "https://localhost:8080/",
     "height": 296
    },
    "id": "95I0hTwWmKEO",
    "outputId": "622fb2df-6e62-46e7-ecac-d6ef87983137"
   },
   "outputs": [
    {
     "name": "stdout",
     "output_type": "stream",
     "text": [
      "[ 0.11684559 -0.01753966]\n"
     ]
    },
    {
     "data": {
      "image/png": "[encoded data removed]",
      "text/plain": [
       "<Figure size 432x288 with 1 Axes>"
      ]
     },
     "metadata": {
      "needs_background": "light"
     },
     "output_type": "display_data"
    }
   ],
   "source": [
    "import numpy as np\n",
    "import matplotlib.pyplot as plt \n",
    "x=df.Potintial_energy\n",
    "y=df.kinetic_energy\n",
    "plt.plot(x,y , label='relation',color='black',marker='.',markersize=7)\n",
    "plt.xlabel(\"PE(J)\")    #fontdict={'fontname':'Comic Sans MS'})\n",
    "plt.ylabel(\"KE(J)\")\n",
    "plt.grid(color='yellow',linestyle='-',axis='both')\n",
    "plt.legend()\n",
    "plt.gca().set_facecolor('gray')\n",
    "coeff=np.polyfit(x,y,1)\n",
    "print(coeff)\n",
    "M=coeff[0]\n",
    "b=coeff[1]\n",
    "xtrend=np.linspace(x[0],x[3],10)\n",
    "ytrend=M*xtrend+b\n",
    "plt.plot(xtrend,ytrend,'w-')\n",
    "plt.show()"
   ]
  },
  {
   "cell_type": "code",
   "execution_count": 22,
   "metadata": {
    "colab": {
     "base_uri": "https://localhost:8080/",
     "height": 130
    },
    "id": "muwrmT4yq12n",
    "outputId": "8c71a5b0-08a0-4e01-b40d-9c7efcfa4d43"
   },
   "outputs": [
    {
     "name": "stdout",
     "output_type": "stream",
     "text": [
      "the slope =  0.11\n"
     ]
    }
   ],
   "source": [
    "import numpy as np \n",
    "def slope(x1,y1,x2,y2):\n",
    "    return (y2-y1)/(x2-x1)\n",
    "x1=df.Potintial_energy[0]\n",
    "y1=df.kinetic_energy[0]\n",
    "x2=df.Potintial_energy[3]\n",
    "y2=df.kinetic_energy[3]\n",
    "slop= slope(x1,y1,x2,y2)  \n",
    "print ('the slope = ',round(slop,2))"
   ]
  },
  {
   "cell_type": "code",
   "execution_count": 24,
   "metadata": {
    "id": "aWyT6qm791bp"
   },
   "outputs": [
    {
     "data": {
      "text/plain": [
       "9.78730464073187"
      ]
     },
     "execution_count": 24,
     "metadata": {},
     "output_type": "execute_result"
    }
   ],
   "source": [
    "import numpy as np\n",
    "loss_e=abs(1-slop*100)\n",
    "loss_e"
   ]
  },
  {
   "cell_type": "markdown",
   "metadata": {},
   "source": [
    "# problem6"
   ]
  },
  {
   "cell_type": "code",
   "execution_count": 1,
   "metadata": {},
   "outputs": [],
   "source": [
    "import numpy as np \n",
    "v=20\n",
    "phi=45\n",
    "theta=np.deg2rad(phi)\n",
    "g=9.8"
   ]
  },
  {
   "cell_type": "code",
   "execution_count": 2,
   "metadata": {},
   "outputs": [],
   "source": [
    "R=(v**2)*(np.sin(2*theta))/g"
   ]
  },
  {
   "cell_type": "code",
   "execution_count": 3,
   "metadata": {},
   "outputs": [
    {
     "name": "stdout",
     "output_type": "stream",
     "text": [
      "Range=  40.8 m\n"
     ]
    }
   ],
   "source": [
    "print('Range= ',round(R,1),'m')"
   ]
  },
  {
   "cell_type": "code",
   "execution_count": 4,
   "metadata": {},
   "outputs": [],
   "source": [
    "h=((v**2)*np.sin(theta)*np.sin(theta))/(2*g)"
   ]
  },
  {
   "cell_type": "code",
   "execution_count": 5,
   "metadata": {},
   "outputs": [
    {
     "name": "stdout",
     "output_type": "stream",
     "text": [
      "Maximum height=  10.204 m\n"
     ]
    }
   ],
   "source": [
    "print('Maximum height= ',round(h,3),'m')"
   ]
  },
  {
   "cell_type": "code",
   "execution_count": null,
   "metadata": {},
   "outputs": [],
   "source": []
  }
 ],
 "metadata": {
  "colab": {
   "collapsed_sections": [],
   "name": "Untitled18.ipynb",
   "provenance": []
  },
  "kernelspec": {
   "display_name": "Python 3",
   "language": "python",
   "name": "python3"
  },
  "language_info": {
   "codemirror_mode": {
    "name": "ipython",
    "version": 3
   },
   "file_extension": ".py",
   "mimetype": "text/x-python",
   "name": "python",
   "nbconvert_exporter": "python",
   "pygments_lexer": "ipython3",
   "version": "3.8.8"
  }
 },
 "nbformat": 4,
 "nbformat_minor": 1
}
